{
 "cells": [
  {
   "cell_type": "markdown",
   "metadata": {},
   "source": [
    "Python3语法学习\n",
    "http://www.runoob.com/python3/python3-date-time.html\n",
    "\n",
    "pycharm，有三种注释方式：\n",
    "         1.用一对\"\"\" 括起来要注释的代码块。\n",
    "         2.用一对'''括起来要注释的代码块。\n",
    "         3.选中要注释的代码，按下ctrl+/注释。"
   ]
  },
  {
   "cell_type": "code",
   "execution_count": 38,
   "metadata": {},
   "outputs": [
    {
     "name": "stdout",
     "output_type": "stream",
     "text": [
      "0\n",
      "1\n",
      "2\n",
      "3\n",
      "4\n"
     ]
    }
   ],
   "source": [
    "for i in range(5):  #此处的in就是i在1到5（不包含5）这个范围内了。\n",
    "    print(i)"
   ]
  },
  {
   "cell_type": "code",
   "execution_count": 39,
   "metadata": {},
   "outputs": [
    {
     "name": "stdout",
     "output_type": "stream",
     "text": [
      "1\n",
      "2\n",
      "3\n",
      "4\n"
     ]
    }
   ],
   "source": [
    "for i in range(1,5):  #此处的in就是i在0到5（不包含5）这个范围内了。\n",
    "    print(i)"
   ]
  },
  {
   "cell_type": "code",
   "execution_count": 40,
   "metadata": {},
   "outputs": [
    {
     "name": "stdout",
     "output_type": "stream",
     "text": [
      "2\n",
      "3\n",
      "4\n"
     ]
    }
   ],
   "source": [
    "for i in range(2,5):  #此处的in就是i在2到5（不包含5）这个范围内了。\n",
    "    print(i)"
   ]
  },
  {
   "cell_type": "code",
   "execution_count": 41,
   "metadata": {},
   "outputs": [
    {
     "data": {
      "text/plain": [
       "[0, 5, 10, 15, 20, 25]"
      ]
     },
     "execution_count": 41,
     "metadata": {},
     "output_type": "execute_result"
    }
   ],
   "source": [
    "list(range(0, 30, 5))"
   ]
  },
  {
   "cell_type": "code",
   "execution_count": 30,
   "metadata": {
    "scrolled": true
   },
   "outputs": [
    {
     "name": "stdout",
     "output_type": "stream",
     "text": [
      "2018-03-22 13:24:09\n",
      "Thu Mar 22 13:24:09 2018\n",
      "1459175064.0\n",
      "当前时间戳为: 1521696249.1391342\n"
     ]
    }
   ],
   "source": [
    "#!/usr/bin/python3\n",
    "\n",
    "import time\n",
    "\n",
    "# 格式化成2016-03-20 11:45:39形式\n",
    "print (time.strftime(\"%Y-%m-%d %H:%M:%S\", time.localtime()))\n",
    "\n",
    "# 格式化成Sat Mar 28 22:24:24 2016形式\n",
    "print (time.strftime(\"%a %b %d %H:%M:%S %Y\", time.localtime()))\n",
    "  \n",
    "# 将格式字符串转换为时间戳\n",
    "a = \"Sat Mar 28 22:24:24 2016\"\n",
    "print (time.mktime(time.strptime(a,\"%a %b %d %H:%M:%S %Y\")))\n",
    "\n",
    "ticks = time.time()\n",
    "print (\"当前时间戳为:\", ticks)"
   ]
  },
  {
   "cell_type": "code",
   "execution_count": 29,
   "metadata": {},
   "outputs": [
    {
     "name": "stdout",
     "output_type": "stream",
     "text": [
      "本地时间为 : Thu Mar 22 13:24:06 2018\n"
     ]
    }
   ],
   "source": [
    "#!/usr/bin/python3\n",
    "\n",
    "import time\n",
    "\n",
    "localtime = time.asctime( time.localtime(time.time()) )\n",
    "print (\"本地时间为 :\", localtime)"
   ]
  },
  {
   "cell_type": "markdown",
   "metadata": {},
   "source": [
    "python中时间日期格式化符号：\n",
    "\n",
    "%y 两位数的年份表示（00-99）\n",
    "%Y 四位数的年份表示（000-9999）\n",
    "%m 月份（01-12）\n",
    "%d 月内中的一天（0-31）\n",
    "%H 24小时制小时数（0-23）\n",
    "%I 12小时制小时数（01-12）\n",
    "%M 分钟数（00=59）\n",
    "%S 秒（00-59）\n",
    "%a 本地简化星期名称\n",
    "%A 本地完整星期名称\n",
    "%b 本地简化的月份名称\n",
    "%B 本地完整的月份名称\n",
    "%c 本地相应的日期表示和时间表示\n",
    "%j 年内的一天（001-366）\n",
    "%p 本地A.M.或P.M.的等价符\n",
    "%U 一年中的星期数（00-53）星期天为星期的开始\n",
    "%w 星期（0-6），星期天为星期的开始\n",
    "%W 一年中的星期数（00-53）星期一为星期的开始\n",
    "%x 本地相应的日期表示\n",
    "%X 本地相应的时间表示\n",
    "%Z 当前时区的名称\n",
    "%% %号本身\n"
   ]
  },
  {
   "cell_type": "code",
   "execution_count": null,
   "metadata": {
    "collapsed": true,
    "scrolled": true
   },
   "outputs": [],
   "source": [
    "#!/usr/bin/python3\n",
    "import calendar\n",
    " \n",
    "for i in range(1,3):       \n",
    "   cal = calendar.month(2018, i)\n",
    "   print (\"以下输出2018年日历:\",i,\"月份\")\n",
    "   print (cal)"
   ]
  },
  {
   "cell_type": "markdown",
   "metadata": {},
   "source": [
    "for in 循环体部分 严格对齐！！"
   ]
  },
  {
   "cell_type": "code",
   "execution_count": 55,
   "metadata": {},
   "outputs": [
    {
     "name": "stdout",
     "output_type": "stream",
     "text": [
      "1 到 100 之和为: 5050\n"
     ]
    }
   ],
   "source": [
    "#!/usr/bin/env python3\n",
    " \n",
    "n = 100 \n",
    "sum = 0\n",
    "counter = 1\n",
    "for n in range(1,n+1):  \n",
    "    sum = sum + counter\n",
    "    counter += 1\n",
    " \n",
    "print(\"1 到 %d 之和为: %d\" % (n,sum))"
   ]
  },
  {
   "cell_type": "code",
   "execution_count": 56,
   "metadata": {},
   "outputs": [
    {
     "name": "stdout",
     "output_type": "stream",
     "text": [
      "1 到 100 之和为: 5050\n"
     ]
    }
   ],
   "source": [
    "#!/usr/bin/env python3\n",
    "n = 100 \n",
    "sum = 0\n",
    "counter = 1\n",
    "while counter <= n:\n",
    "    sum = sum + counter\n",
    "    counter += 1\n",
    " \n",
    "print(\"1 到 %d 之和为: %d\" % (n,sum))"
   ]
  },
  {
   "cell_type": "code",
   "execution_count": 1,
   "metadata": {},
   "outputs": [
    {
     "name": "stdout",
     "output_type": "stream",
     "text": [
      "0  小于 5\n",
      "1  小于 5\n",
      "2  小于 5\n",
      "3  小于 5\n",
      "4  小于 5\n",
      "5  大于或等于 5\n"
     ]
    }
   ],
   "source": [
    "#!/usr/bin/python3\n",
    " \n",
    "count = 0\n",
    "while count < 5:\n",
    "   print (count, \" 小于 5\")\n",
    "   count = count + 1\n",
    "else:\n",
    "   print (count, \" 大于或等于 5\")"
   ]
  },
  {
   "cell_type": "markdown",
   "metadata": {
    "collapsed": true
   },
   "source": [
    "打开和关闭文件"
   ]
  },
  {
   "cell_type": "markdown",
   "metadata": {},
   "source": [
    "r只读，r+读写，不创建\n",
    "\n",
    "w新建只写，w+新建读写，二者都会将文件内容清零\n",
    "\n",
    "w方式打开，不能读出。w+可读写\n",
    "\n",
    "w+与r+区别：\n",
    "r+：可读可写，若文件不存在，报错；\n",
    "w+: 可读可写，若文件不存在，创建\n",
    "\n",
    "http://www.jb51.net/article/87398.htm"
   ]
  },
  {
   "cell_type": "markdown",
   "metadata": {},
   "source": [
    "python 2.x, \n",
    "print x          print 不换行\n",
    "\n",
    "python 3.x \n",
    "print(x, end=\"\") print 不换行"
   ]
  },
  {
   "cell_type": "code",
   "execution_count": 42,
   "metadata": {},
   "outputs": [
    {
     "name": "stdout",
     "output_type": "stream",
     "text": [
      "D:\\untitled\\result.txt has 0 lines\n",
      "\n",
      "hello-file1!hello-ffile!hello-ffile!hello-ffile!"
     ]
    }
   ],
   "source": [
    "file_name = \"D:\\\\untitled\\\\result.txt\"\n",
    "try:\n",
    " f = open(file_name, 'r+')  #r+：可读可写，若文件不存在，报错；\n",
    " f.read()\n",
    " f.write('hello-file!')\n",
    " f.read()\n",
    "    \n",
    "except IOError:\n",
    " print (\"cannot open\", file_name)\n",
    "else:\n",
    " # Executes only if file opened properly\n",
    " print (file_name, \"has\", len(f.readlines()), \"lines\")\n",
    " print()\n",
    "\n",
    " with open(file_name) as fx:\n",
    "     for line in fx:\n",
    "         print( line,end=\"\")   #不换行\n",
    "        #print( line)          #换行   \n",
    " f.close()\n"
   ]
  },
  {
   "cell_type": "code",
   "execution_count": 43,
   "metadata": {},
   "outputs": [
    {
     "name": "stdout",
     "output_type": "stream",
     "text": [
      "D:\\untitled\\result.txt has 0 lines\n",
      "\n",
      "hello-file1!"
     ]
    }
   ],
   "source": [
    "file_name = \"D:\\\\untitled\\\\result.txt\"\n",
    "try:\n",
    " f = open(file_name, 'w+')    #w+: 可读可写，若文件不存在，创建,将文件内容清零\n",
    " f.read()\n",
    " f.write('hello-file1!')\n",
    " f.read()\n",
    "except IOError:\n",
    " print (\"cannot open\", file_name)\n",
    "\n",
    "else:\n",
    " # Executes only if file opened properly\n",
    " print (file_name, \"has\", len(f.readlines()), \"lines\")\n",
    " print()\n",
    "\n",
    " with open(file_name) as fx:\n",
    "     for line in fx:\n",
    "         print( line,end=\"\")\n",
    " f.close()"
   ]
  },
  {
   "cell_type": "code",
   "execution_count": 47,
   "metadata": {},
   "outputs": [
    {
     "name": "stdout",
     "output_type": "stream",
     "text": [
      "开始打印 9 X 9 的乘法表格\n",
      "1 X 1 =  1  \n",
      "\n",
      "1 X 2 =  2  2 X 2 =  4  \n",
      "\n",
      "1 X 3 =  3  2 X 3 =  6  3 X 3 =  9  \n",
      "\n",
      "1 X 4 =  4  2 X 4 =  8  3 X 4 = 12  4 X 4 = 16  \n",
      "\n",
      "1 X 5 =  5  2 X 5 = 10  3 X 5 = 15  4 X 5 = 20  5 X 5 = 25  \n",
      "\n",
      "1 X 6 =  6  2 X 6 = 12  3 X 6 = 18  4 X 6 = 24  5 X 6 = 30  6 X 6 = 36  \n",
      "\n",
      "1 X 7 =  7  2 X 7 = 14  3 X 7 = 21  4 X 7 = 28  5 X 7 = 35  6 X 7 = 42  7 X 7 = 49  \n",
      "\n",
      "1 X 8 =  8  2 X 8 = 16  3 X 8 = 24  4 X 8 = 32  5 X 8 = 40  6 X 8 = 48  7 X 8 = 56  8 X 8 = 64  \n",
      "\n",
      "1 X 9 =  9  2 X 9 = 18  3 X 9 = 27  4 X 9 = 36  5 X 9 = 45  6 X 9 = 54  7 X 9 = 63  8 X 9 = 72  9 X 9 = 81  \n",
      "\n"
     ]
    }
   ],
   "source": [
    "#!/usr/bin/env python\n",
    "#-*- coding: utf-8 -*-\n",
    "__author__ = '****'\n",
    "\n",
    "class PrintTable(object):\n",
    "    '''打印九九乘法表'''\n",
    "    def __init__(self):\n",
    "        print('开始打印 9 X 9 的乘法表格')\n",
    "        self.print99()\n",
    "\n",
    "    def print99(self):\n",
    "        for i in range(1, 10):\n",
    "            for j in range(1, i+1):\n",
    "                print('%d X %d = %2s  ' %(j, i, i*j),end=\"\"),\n",
    "            print('\\n')\n",
    "            \n",
    "if __name__ == '__main__':\n",
    "    pt = PrintTable()"
   ]
  },
  {
   "cell_type": "code",
   "execution_count": 49,
   "metadata": {},
   "outputs": [
    {
     "ename": "ModuleNotFoundError",
     "evalue": "No module named 'imtool'",
     "output_type": "error",
     "traceback": [
      "\u001b[1;31m---------------------------------------------------------------------------\u001b[0m",
      "\u001b[1;31mModuleNotFoundError\u001b[0m                       Traceback (most recent call last)",
      "\u001b[1;32m<ipython-input-49-a346b30bf179>\u001b[0m in \u001b[0;36m<module>\u001b[1;34m()\u001b[0m\n\u001b[0;32m      4\u001b[0m \u001b[1;31m#--------------------------------------------------------------------------\u001b[0m\u001b[1;33m\u001b[0m\u001b[1;33m\u001b[0m\u001b[0m\n\u001b[0;32m      5\u001b[0m \u001b[1;31m# 导入模块(函数在imtool.py中)--方法1\u001b[0m\u001b[1;33m\u001b[0m\u001b[1;33m\u001b[0m\u001b[0m\n\u001b[1;32m----> 6\u001b[1;33m \u001b[1;32mimport\u001b[0m \u001b[0mimtool\u001b[0m\u001b[1;33m\u001b[0m\u001b[0m\n\u001b[0m\u001b[0;32m      7\u001b[0m \u001b[1;31m# 现在可以调用模块里包含的函数了\u001b[0m\u001b[1;33m\u001b[0m\u001b[1;33m\u001b[0m\u001b[0m\n\u001b[0;32m      8\u001b[0m \u001b[0mimtool\u001b[0m\u001b[1;33m.\u001b[0m\u001b[0mprint_func\u001b[0m\u001b[1;33m(\u001b[0m\u001b[1;34m\"Runoob\"\u001b[0m\u001b[1;33m)\u001b[0m\u001b[1;33m\u001b[0m\u001b[0m\n",
      "\u001b[1;31mModuleNotFoundError\u001b[0m: No module named 'imtool'"
     ]
    }
   ],
   "source": [
    "#!/usr/bin/python\n",
    "# -*- coding: UTF-8 -*-\n",
    "\n",
    "#--------------------------------------------------------------------------\n",
    "# 导入模块(函数在imtool.py中)--方法1\n",
    "import imtool\n",
    "# 现在可以调用模块里包含的函数了\n",
    "imtool.print_func(\"Runoob\")\n",
    "\n",
    "#--------------------------------------------------------------------------\n",
    "# 导入模块(函数在imtool.py中)--方法2\n",
    "from imtool import print_func\n",
    "# 现在可以调用模块里包含的函数了\n",
    "print_func(\"Runoob\")\n",
    "\n",
    "#--------------------------------------------------------------------------\n",
    "# 导入内置math模块\n",
    "import math\n",
    "content = dir(math)\n",
    "print(content)"
   ]
  },
  {
   "cell_type": "code",
   "execution_count": null,
   "metadata": {
    "collapsed": true
   },
   "outputs": [],
   "source": []
  }
 ],
 "metadata": {
  "kernelspec": {
   "display_name": "Python 3",
   "language": "python",
   "name": "python3"
  },
  "language_info": {
   "codemirror_mode": {
    "name": "ipython",
    "version": 3
   },
   "file_extension": ".py",
   "mimetype": "text/x-python",
   "name": "python",
   "nbconvert_exporter": "python",
   "pygments_lexer": "ipython3",
   "version": "3.6.3"
  }
 },
 "nbformat": 4,
 "nbformat_minor": 2
}
